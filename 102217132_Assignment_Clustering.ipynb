{
  "cells": [
    {
      "cell_type": "markdown",
      "metadata": {
        "id": "view-in-github",
        "colab_type": "text"
      },
      "source": [
        "<a href=\"https://colab.research.google.com/github/angad68/102217132_Clustering/blob/main/102217132_Assignment_Clustering.ipynb\" target=\"_parent\"><img src=\"https://colab.research.google.com/assets/colab-badge.svg\" alt=\"Open In Colab\"/></a>"
      ]
    },
    {
      "cell_type": "markdown",
      "id": "aa418aa8-bb93-4af5-9147-846280f24b0c",
      "metadata": {
        "id": "aa418aa8-bb93-4af5-9147-846280f24b0c"
      },
      "source": [
        "# assignment 4, 102217132, Angad Singh, 3Q15"
      ]
    },
    {
      "cell_type": "markdown",
      "id": "cd637ce1-3860-46d9-8b40-f19099eeba2b",
      "metadata": {
        "id": "cd637ce1-3860-46d9-8b40-f19099eeba2b"
      },
      "source": [
        "# SAMPLING"
      ]
    },
    {
      "cell_type": "code",
      "execution_count": null,
      "id": "e48c78f7",
      "metadata": {
        "colab": {
          "base_uri": "https://localhost:8080/"
        },
        "id": "e48c78f7",
        "outputId": "bb0d4576-d61e-4960-def1-a9a1f097ed42"
      },
      "outputs": [
        {
          "output_type": "stream",
          "name": "stdout",
          "text": [
            "{'uci_id': 53, 'name': 'Iris', 'repository_url': 'https://archive.ics.uci.edu/dataset/53/iris', 'data_url': 'https://archive.ics.uci.edu/static/public/53/data.csv', 'abstract': 'A small classic dataset from Fisher, 1936. One of the earliest known datasets used for evaluating classification methods.\\n', 'area': 'Biology', 'tasks': ['Classification'], 'characteristics': ['Tabular'], 'num_instances': 150, 'num_features': 4, 'feature_types': ['Real'], 'demographics': [], 'target_col': ['class'], 'index_col': None, 'has_missing_values': 'no', 'missing_values_symbol': None, 'year_of_dataset_creation': 1936, 'last_updated': 'Tue Sep 12 2023', 'dataset_doi': '10.24432/C56C76', 'creators': ['R. A. Fisher'], 'intro_paper': {'ID': 191, 'type': 'NATIVE', 'title': 'The Iris data set: In search of the source of virginica', 'authors': 'A. Unwin, K. Kleinman', 'venue': 'Significance, 2021', 'year': 2021, 'journal': 'Significance, 2021', 'DOI': '1740-9713.01589', 'URL': 'https://www.semanticscholar.org/paper/4599862ea877863669a6a8e63a3c707a787d5d7e', 'sha': None, 'corpus': None, 'arxiv': None, 'mag': None, 'acl': None, 'pmid': None, 'pmcid': None}, 'additional_info': {'summary': 'This is one of the earliest datasets used in the literature on classification methods and widely used in statistics and machine learning.  The data set contains 3 classes of 50 instances each, where each class refers to a type of iris plant.  One class is linearly separable from the other 2; the latter are not linearly separable from each other.\\n\\nPredicted attribute: class of iris plant.\\n\\nThis is an exceedingly simple domain.\\n\\nThis data differs from the data presented in Fishers article (identified by Steve Chadwick,  spchadwick@espeedaz.net ).  The 35th sample should be: 4.9,3.1,1.5,0.2,\"Iris-setosa\" where the error is in the fourth feature. The 38th sample: 4.9,3.6,1.4,0.1,\"Iris-setosa\" where the errors are in the second and third features.  ', 'purpose': 'N/A', 'funded_by': None, 'instances_represent': 'Each instance is a plant', 'recommended_data_splits': None, 'sensitive_data': None, 'preprocessing_description': None, 'variable_info': None, 'citation': None}}\n",
            "           name     role         type demographic  \\\n",
            "0  sepal length  Feature   Continuous        None   \n",
            "1   sepal width  Feature   Continuous        None   \n",
            "2  petal length  Feature   Continuous        None   \n",
            "3   petal width  Feature   Continuous        None   \n",
            "4         class   Target  Categorical        None   \n",
            "\n",
            "                                         description units missing_values  \n",
            "0                                               None    cm             no  \n",
            "1                                               None    cm             no  \n",
            "2                                               None    cm             no  \n",
            "3                                               None    cm             no  \n",
            "4  class of iris plant: Iris Setosa, Iris Versico...  None             no  \n"
          ]
        }
      ],
      "source": [
        "from ucimlrepo import fetch_ucirepo\n",
        "\n",
        "# fetch dataset\n",
        "iris = fetch_ucirepo(id=53)\n",
        "\n",
        "# data (as pandas dataframes)\n",
        "X = iris.data.features\n",
        "y = iris.data.targets\n",
        "\n",
        "# metadata\n",
        "print(iris.metadata)\n",
        "\n",
        "# variable information\n",
        "print(iris.variables)"
      ]
    },
    {
      "cell_type": "code",
      "execution_count": null,
      "id": "a76b2d9a",
      "metadata": {
        "colab": {
          "base_uri": "https://localhost:8080/"
        },
        "id": "a76b2d9a",
        "outputId": "8c305a4c-7e76-45d7-b566-de60ca813cbd"
      },
      "outputs": [
        {
          "output_type": "stream",
          "name": "stdout",
          "text": [
            "CSV file 'iris.csv' has been saved.\n"
          ]
        }
      ],
      "source": [
        "import pandas as pd\n",
        "\n",
        "# Specify the URL of the Iris dataset from the UCI repository\n",
        "url = \"https://archive.ics.uci.edu/ml/machine-learning-databases/iris/iris.data\"\n",
        "\n",
        "# Load the dataset into a Pandas DataFrame\n",
        "# The Iris dataset has headers, so there's no need to specify 'header=None'\n",
        "iris = pd.read_csv(url, header=None)\n",
        "\n",
        "# Save the DataFrame to a CSV file named 'iris.csv'\n",
        "iris.to_csv(\"iris.csv\", index=False)\n",
        "\n",
        "# Confirm that the file is saved\n",
        "print(\"CSV file 'iris.csv' has been saved.\")\n"
      ]
    },
    {
      "cell_type": "code",
      "source": [
        "!pip install ucimlrepo\n",
        "!pip install pycaret"
      ],
      "metadata": {
        "colab": {
          "base_uri": "https://localhost:8080/",
          "height": 1000
        },
        "id": "07T65_PMdATu",
        "outputId": "8a241e5a-2233-40e3-f9c8-58f45d2e0f31"
      },
      "id": "07T65_PMdATu",
      "execution_count": null,
      "outputs": [
        {
          "output_type": "stream",
          "name": "stdout",
          "text": [
            "Requirement already satisfied: ucimlrepo in /usr/local/lib/python3.11/dist-packages (0.0.7)\n",
            "Requirement already satisfied: pandas>=1.0.0 in /usr/local/lib/python3.11/dist-packages (from ucimlrepo) (2.2.2)\n",
            "Requirement already satisfied: certifi>=2020.12.5 in /usr/local/lib/python3.11/dist-packages (from ucimlrepo) (2025.1.31)\n",
            "Requirement already satisfied: numpy>=1.23.2 in /usr/local/lib/python3.11/dist-packages (from pandas>=1.0.0->ucimlrepo) (2.0.2)\n",
            "Requirement already satisfied: python-dateutil>=2.8.2 in /usr/local/lib/python3.11/dist-packages (from pandas>=1.0.0->ucimlrepo) (2.8.2)\n",
            "Requirement already satisfied: pytz>=2020.1 in /usr/local/lib/python3.11/dist-packages (from pandas>=1.0.0->ucimlrepo) (2025.2)\n",
            "Requirement already satisfied: tzdata>=2022.7 in /usr/local/lib/python3.11/dist-packages (from pandas>=1.0.0->ucimlrepo) (2025.2)\n",
            "Requirement already satisfied: six>=1.5 in /usr/local/lib/python3.11/dist-packages (from python-dateutil>=2.8.2->pandas>=1.0.0->ucimlrepo) (1.17.0)\n",
            "Collecting pycaret\n",
            "  Downloading pycaret-3.3.2-py3-none-any.whl.metadata (17 kB)\n",
            "Requirement already satisfied: ipython>=5.5.0 in /usr/local/lib/python3.11/dist-packages (from pycaret) (7.34.0)\n",
            "Requirement already satisfied: ipywidgets>=7.6.5 in /usr/local/lib/python3.11/dist-packages (from pycaret) (7.7.1)\n",
            "Requirement already satisfied: tqdm>=4.62.0 in /usr/local/lib/python3.11/dist-packages (from pycaret) (4.67.1)\n",
            "Collecting numpy<1.27,>=1.21 (from pycaret)\n",
            "  Downloading numpy-1.26.4-cp311-cp311-manylinux_2_17_x86_64.manylinux2014_x86_64.whl.metadata (61 kB)\n",
            "\u001b[2K     \u001b[90m━━━━━━━━━━━━━━━━━━━━━━━━━━━━━━━━━━━━━━━━\u001b[0m \u001b[32m61.0/61.0 kB\u001b[0m \u001b[31m2.3 MB/s\u001b[0m eta \u001b[36m0:00:00\u001b[0m\n",
            "\u001b[?25hCollecting pandas<2.2.0 (from pycaret)\n",
            "  Downloading pandas-2.1.4-cp311-cp311-manylinux_2_17_x86_64.manylinux2014_x86_64.whl.metadata (18 kB)\n",
            "Requirement already satisfied: jinja2>=3 in /usr/local/lib/python3.11/dist-packages (from pycaret) (3.1.6)\n",
            "Collecting scipy<=1.11.4,>=1.6.1 (from pycaret)\n",
            "  Downloading scipy-1.11.4-cp311-cp311-manylinux_2_17_x86_64.manylinux2014_x86_64.whl.metadata (60 kB)\n",
            "\u001b[2K     \u001b[90m━━━━━━━━━━━━━━━━━━━━━━━━━━━━━━━━━━━━━━━━\u001b[0m \u001b[32m60.4/60.4 kB\u001b[0m \u001b[31m5.4 MB/s\u001b[0m eta \u001b[36m0:00:00\u001b[0m\n",
            "\u001b[?25hCollecting joblib<1.4,>=1.2.0 (from pycaret)\n",
            "  Downloading joblib-1.3.2-py3-none-any.whl.metadata (5.4 kB)\n",
            "Requirement already satisfied: scikit-learn>1.4.0 in /usr/local/lib/python3.11/dist-packages (from pycaret) (1.6.1)\n",
            "Collecting pyod>=1.1.3 (from pycaret)\n",
            "  Downloading pyod-2.0.4.tar.gz (169 kB)\n",
            "\u001b[2K     \u001b[90m━━━━━━━━━━━━━━━━━━━━━━━━━━━━━━━━━━━━━━━\u001b[0m \u001b[32m169.7/169.7 kB\u001b[0m \u001b[31m8.8 MB/s\u001b[0m eta \u001b[36m0:00:00\u001b[0m\n",
            "\u001b[?25h  Preparing metadata (setup.py) ... \u001b[?25l\u001b[?25hdone\n",
            "Requirement already satisfied: imbalanced-learn>=0.12.0 in /usr/local/lib/python3.11/dist-packages (from pycaret) (0.13.0)\n",
            "Collecting category-encoders>=2.4.0 (from pycaret)\n",
            "  Downloading category_encoders-2.8.1-py3-none-any.whl.metadata (7.9 kB)\n",
            "Requirement already satisfied: lightgbm>=3.0.0 in /usr/local/lib/python3.11/dist-packages (from pycaret) (4.5.0)\n",
            "Requirement already satisfied: numba>=0.55.0 in /usr/local/lib/python3.11/dist-packages (from pycaret) (0.60.0)\n",
            "Requirement already satisfied: requests>=2.27.1 in /usr/local/lib/python3.11/dist-packages (from pycaret) (2.32.3)\n",
            "Requirement already satisfied: psutil>=5.9.0 in /usr/local/lib/python3.11/dist-packages (from pycaret) (5.9.5)\n",
            "Requirement already satisfied: markupsafe>=2.0.1 in /usr/local/lib/python3.11/dist-packages (from pycaret) (3.0.2)\n",
            "Requirement already satisfied: importlib-metadata>=4.12.0 in /usr/local/lib/python3.11/dist-packages (from pycaret) (8.6.1)\n",
            "Requirement already satisfied: nbformat>=4.2.0 in /usr/local/lib/python3.11/dist-packages (from pycaret) (5.10.4)\n",
            "Requirement already satisfied: cloudpickle in /usr/local/lib/python3.11/dist-packages (from pycaret) (3.1.1)\n",
            "Collecting deprecation>=2.1.0 (from pycaret)\n",
            "  Downloading deprecation-2.1.0-py2.py3-none-any.whl.metadata (4.6 kB)\n",
            "Collecting xxhash (from pycaret)\n",
            "  Downloading xxhash-3.5.0-cp311-cp311-manylinux_2_17_x86_64.manylinux2014_x86_64.whl.metadata (12 kB)\n",
            "Collecting matplotlib<3.8.0 (from pycaret)\n",
            "  Downloading matplotlib-3.7.5-cp311-cp311-manylinux_2_17_x86_64.manylinux2014_x86_64.whl.metadata (5.7 kB)\n",
            "Collecting scikit-plot>=0.3.7 (from pycaret)\n",
            "  Downloading scikit_plot-0.3.7-py3-none-any.whl.metadata (7.1 kB)\n",
            "Requirement already satisfied: yellowbrick>=1.4 in /usr/local/lib/python3.11/dist-packages (from pycaret) (1.5)\n",
            "Requirement already satisfied: plotly>=5.14.0 in /usr/local/lib/python3.11/dist-packages (from pycaret) (5.24.1)\n",
            "Collecting kaleido>=0.2.1 (from pycaret)\n",
            "  Downloading kaleido-0.2.1-py2.py3-none-manylinux1_x86_64.whl.metadata (15 kB)\n",
            "Collecting schemdraw==0.15 (from pycaret)\n",
            "  Downloading schemdraw-0.15-py3-none-any.whl.metadata (2.2 kB)\n",
            "Collecting plotly-resampler>=0.8.3.1 (from pycaret)\n",
            "  Downloading plotly_resampler-0.10.0-py3-none-any.whl.metadata (13 kB)\n",
            "Requirement already satisfied: statsmodels>=0.12.1 in /usr/local/lib/python3.11/dist-packages (from pycaret) (0.14.4)\n",
            "Collecting sktime==0.26.0 (from pycaret)\n",
            "  Downloading sktime-0.26.0-py3-none-any.whl.metadata (29 kB)\n",
            "Collecting tbats>=1.1.3 (from pycaret)\n",
            "  Downloading tbats-1.1.3-py3-none-any.whl.metadata (3.8 kB)\n",
            "Collecting pmdarima>=2.0.4 (from pycaret)\n",
            "  Downloading pmdarima-2.0.4-cp311-cp311-manylinux_2_17_x86_64.manylinux2014_x86_64.manylinux_2_28_x86_64.whl.metadata (7.8 kB)\n",
            "Requirement already satisfied: wurlitzer in /usr/local/lib/python3.11/dist-packages (from pycaret) (3.1.1)\n",
            "Requirement already satisfied: packaging in /usr/local/lib/python3.11/dist-packages (from sktime==0.26.0->pycaret) (24.2)\n",
            "Collecting scikit-base<0.8.0 (from sktime==0.26.0->pycaret)\n",
            "  Downloading scikit_base-0.7.8-py3-none-any.whl.metadata (8.8 kB)\n",
            "Collecting scikit-learn>1.4.0 (from pycaret)\n",
            "  Downloading scikit_learn-1.4.2-cp311-cp311-manylinux_2_17_x86_64.manylinux2014_x86_64.whl.metadata (11 kB)\n",
            "Requirement already satisfied: patsy>=0.5.1 in /usr/local/lib/python3.11/dist-packages (from category-encoders>=2.4.0->pycaret) (1.0.1)\n",
            "INFO: pip is looking at multiple versions of category-encoders to determine which version is compatible with other requirements. This could take a while.\n",
            "Collecting category-encoders>=2.4.0 (from pycaret)\n",
            "  Downloading category_encoders-2.8.0-py3-none-any.whl.metadata (7.9 kB)\n",
            "  Downloading category_encoders-2.7.0-py3-none-any.whl.metadata (7.9 kB)\n",
            "Requirement already satisfied: sklearn-compat<1,>=0.1 in /usr/local/lib/python3.11/dist-packages (from imbalanced-learn>=0.12.0->pycaret) (0.1.3)\n",
            "Requirement already satisfied: threadpoolctl<4,>=2.0.0 in /usr/local/lib/python3.11/dist-packages (from imbalanced-learn>=0.12.0->pycaret) (3.6.0)\n",
            "Requirement already satisfied: zipp>=3.20 in /usr/local/lib/python3.11/dist-packages (from importlib-metadata>=4.12.0->pycaret) (3.21.0)\n",
            "Requirement already satisfied: setuptools>=18.5 in /usr/local/lib/python3.11/dist-packages (from ipython>=5.5.0->pycaret) (75.2.0)\n",
            "Collecting jedi>=0.16 (from ipython>=5.5.0->pycaret)\n",
            "  Downloading jedi-0.19.2-py2.py3-none-any.whl.metadata (22 kB)\n",
            "Requirement already satisfied: decorator in /usr/local/lib/python3.11/dist-packages (from ipython>=5.5.0->pycaret) (4.4.2)\n",
            "Requirement already satisfied: pickleshare in /usr/local/lib/python3.11/dist-packages (from ipython>=5.5.0->pycaret) (0.7.5)\n",
            "Requirement already satisfied: traitlets>=4.2 in /usr/local/lib/python3.11/dist-packages (from ipython>=5.5.0->pycaret) (5.7.1)\n",
            "Requirement already satisfied: prompt-toolkit!=3.0.0,!=3.0.1,<3.1.0,>=2.0.0 in /usr/local/lib/python3.11/dist-packages (from ipython>=5.5.0->pycaret) (3.0.51)\n",
            "Requirement already satisfied: pygments in /usr/local/lib/python3.11/dist-packages (from ipython>=5.5.0->pycaret) (2.18.0)\n",
            "Requirement already satisfied: backcall in /usr/local/lib/python3.11/dist-packages (from ipython>=5.5.0->pycaret) (0.2.0)\n",
            "Requirement already satisfied: matplotlib-inline in /usr/local/lib/python3.11/dist-packages (from ipython>=5.5.0->pycaret) (0.1.7)\n",
            "Requirement already satisfied: pexpect>4.3 in /usr/local/lib/python3.11/dist-packages (from ipython>=5.5.0->pycaret) (4.9.0)\n",
            "Requirement already satisfied: ipykernel>=4.5.1 in /usr/local/lib/python3.11/dist-packages (from ipywidgets>=7.6.5->pycaret) (6.17.1)\n",
            "Requirement already satisfied: ipython-genutils~=0.2.0 in /usr/local/lib/python3.11/dist-packages (from ipywidgets>=7.6.5->pycaret) (0.2.0)\n",
            "Requirement already satisfied: widgetsnbextension~=3.6.0 in /usr/local/lib/python3.11/dist-packages (from ipywidgets>=7.6.5->pycaret) (3.6.10)\n",
            "Requirement already satisfied: jupyterlab-widgets>=1.0.0 in /usr/local/lib/python3.11/dist-packages (from ipywidgets>=7.6.5->pycaret) (3.0.14)\n",
            "Requirement already satisfied: contourpy>=1.0.1 in /usr/local/lib/python3.11/dist-packages (from matplotlib<3.8.0->pycaret) (1.3.2)\n",
            "Requirement already satisfied: cycler>=0.10 in /usr/local/lib/python3.11/dist-packages (from matplotlib<3.8.0->pycaret) (0.12.1)\n",
            "Requirement already satisfied: fonttools>=4.22.0 in /usr/local/lib/python3.11/dist-packages (from matplotlib<3.8.0->pycaret) (4.57.0)\n",
            "Requirement already satisfied: kiwisolver>=1.0.1 in /usr/local/lib/python3.11/dist-packages (from matplotlib<3.8.0->pycaret) (1.4.8)\n",
            "Requirement already satisfied: pillow>=6.2.0 in /usr/local/lib/python3.11/dist-packages (from matplotlib<3.8.0->pycaret) (11.1.0)\n",
            "Requirement already satisfied: pyparsing>=2.3.1 in /usr/local/lib/python3.11/dist-packages (from matplotlib<3.8.0->pycaret) (3.2.3)\n",
            "Requirement already satisfied: python-dateutil>=2.7 in /usr/local/lib/python3.11/dist-packages (from matplotlib<3.8.0->pycaret) (2.8.2)\n",
            "Requirement already satisfied: fastjsonschema>=2.15 in /usr/local/lib/python3.11/dist-packages (from nbformat>=4.2.0->pycaret) (2.21.1)\n",
            "Requirement already satisfied: jsonschema>=2.6 in /usr/local/lib/python3.11/dist-packages (from nbformat>=4.2.0->pycaret) (4.23.0)\n",
            "Requirement already satisfied: jupyter-core!=5.0.*,>=4.12 in /usr/local/lib/python3.11/dist-packages (from nbformat>=4.2.0->pycaret) (5.7.2)\n",
            "Requirement already satisfied: llvmlite<0.44,>=0.43.0dev0 in /usr/local/lib/python3.11/dist-packages (from numba>=0.55.0->pycaret) (0.43.0)\n",
            "Requirement already satisfied: pytz>=2020.1 in /usr/local/lib/python3.11/dist-packages (from pandas<2.2.0->pycaret) (2025.2)\n",
            "Requirement already satisfied: tzdata>=2022.1 in /usr/local/lib/python3.11/dist-packages (from pandas<2.2.0->pycaret) (2025.2)\n",
            "Requirement already satisfied: tenacity>=6.2.0 in /usr/local/lib/python3.11/dist-packages (from plotly>=5.14.0->pycaret) (9.1.2)\n",
            "Collecting dash>=2.9.0 (from plotly-resampler>=0.8.3.1->pycaret)\n",
            "  Downloading dash-3.0.3-py3-none-any.whl.metadata (10 kB)\n",
            "Requirement already satisfied: orjson<4.0.0,>=3.8.0 in /usr/local/lib/python3.11/dist-packages (from plotly-resampler>=0.8.3.1->pycaret) (3.10.16)\n",
            "Collecting tsdownsample>=0.1.3 (from plotly-resampler>=0.8.3.1->pycaret)\n",
            "  Downloading tsdownsample-0.1.4.1-cp311-cp311-manylinux_2_17_x86_64.manylinux2014_x86_64.whl.metadata (8.0 kB)\n",
            "Requirement already satisfied: Cython!=0.29.18,!=0.29.31,>=0.29 in /usr/local/lib/python3.11/dist-packages (from pmdarima>=2.0.4->pycaret) (3.0.12)\n",
            "Requirement already satisfied: urllib3 in /usr/local/lib/python3.11/dist-packages (from pmdarima>=2.0.4->pycaret) (2.3.0)\n",
            "Requirement already satisfied: charset-normalizer<4,>=2 in /usr/local/lib/python3.11/dist-packages (from requests>=2.27.1->pycaret) (3.4.1)\n",
            "Requirement already satisfied: idna<4,>=2.5 in /usr/local/lib/python3.11/dist-packages (from requests>=2.27.1->pycaret) (3.10)\n",
            "Requirement already satisfied: certifi>=2017.4.17 in /usr/local/lib/python3.11/dist-packages (from requests>=2.27.1->pycaret) (2025.1.31)\n",
            "Collecting Flask<3.1,>=1.0.4 (from dash>=2.9.0->plotly-resampler>=0.8.3.1->pycaret)\n",
            "  Downloading flask-3.0.3-py3-none-any.whl.metadata (3.2 kB)\n",
            "Collecting Werkzeug<3.1 (from dash>=2.9.0->plotly-resampler>=0.8.3.1->pycaret)\n",
            "  Downloading werkzeug-3.0.6-py3-none-any.whl.metadata (3.7 kB)\n",
            "Requirement already satisfied: typing-extensions>=4.1.1 in /usr/local/lib/python3.11/dist-packages (from dash>=2.9.0->plotly-resampler>=0.8.3.1->pycaret) (4.13.2)\n",
            "Collecting retrying (from dash>=2.9.0->plotly-resampler>=0.8.3.1->pycaret)\n",
            "  Downloading retrying-1.3.4-py3-none-any.whl.metadata (6.9 kB)\n",
            "Requirement already satisfied: nest-asyncio in /usr/local/lib/python3.11/dist-packages (from dash>=2.9.0->plotly-resampler>=0.8.3.1->pycaret) (1.6.0)\n",
            "Requirement already satisfied: debugpy>=1.0 in /usr/local/lib/python3.11/dist-packages (from ipykernel>=4.5.1->ipywidgets>=7.6.5->pycaret) (1.8.0)\n",
            "Requirement already satisfied: jupyter-client>=6.1.12 in /usr/local/lib/python3.11/dist-packages (from ipykernel>=4.5.1->ipywidgets>=7.6.5->pycaret) (6.1.12)\n",
            "Requirement already satisfied: pyzmq>=17 in /usr/local/lib/python3.11/dist-packages (from ipykernel>=4.5.1->ipywidgets>=7.6.5->pycaret) (24.0.1)\n",
            "Requirement already satisfied: tornado>=6.1 in /usr/local/lib/python3.11/dist-packages (from ipykernel>=4.5.1->ipywidgets>=7.6.5->pycaret) (6.4.2)\n",
            "Requirement already satisfied: parso<0.9.0,>=0.8.4 in /usr/local/lib/python3.11/dist-packages (from jedi>=0.16->ipython>=5.5.0->pycaret) (0.8.4)\n",
            "Requirement already satisfied: attrs>=22.2.0 in /usr/local/lib/python3.11/dist-packages (from jsonschema>=2.6->nbformat>=4.2.0->pycaret) (25.3.0)\n",
            "Requirement already satisfied: jsonschema-specifications>=2023.03.6 in /usr/local/lib/python3.11/dist-packages (from jsonschema>=2.6->nbformat>=4.2.0->pycaret) (2024.10.1)\n",
            "Requirement already satisfied: referencing>=0.28.4 in /usr/local/lib/python3.11/dist-packages (from jsonschema>=2.6->nbformat>=4.2.0->pycaret) (0.36.2)\n",
            "Requirement already satisfied: rpds-py>=0.7.1 in /usr/local/lib/python3.11/dist-packages (from jsonschema>=2.6->nbformat>=4.2.0->pycaret) (0.24.0)\n",
            "Requirement already satisfied: platformdirs>=2.5 in /usr/local/lib/python3.11/dist-packages (from jupyter-core!=5.0.*,>=4.12->nbformat>=4.2.0->pycaret) (4.3.7)\n",
            "Requirement already satisfied: ptyprocess>=0.5 in /usr/local/lib/python3.11/dist-packages (from pexpect>4.3->ipython>=5.5.0->pycaret) (0.7.0)\n",
            "Requirement already satisfied: wcwidth in /usr/local/lib/python3.11/dist-packages (from prompt-toolkit!=3.0.0,!=3.0.1,<3.1.0,>=2.0.0->ipython>=5.5.0->pycaret) (0.2.13)\n",
            "Requirement already satisfied: six>=1.5 in /usr/local/lib/python3.11/dist-packages (from python-dateutil>=2.7->matplotlib<3.8.0->pycaret) (1.17.0)\n",
            "Requirement already satisfied: notebook>=4.4.1 in /usr/local/lib/python3.11/dist-packages (from widgetsnbextension~=3.6.0->ipywidgets>=7.6.5->pycaret) (6.5.7)\n",
            "Requirement already satisfied: itsdangerous>=2.1.2 in /usr/local/lib/python3.11/dist-packages (from Flask<3.1,>=1.0.4->dash>=2.9.0->plotly-resampler>=0.8.3.1->pycaret) (2.2.0)\n",
            "Requirement already satisfied: click>=8.1.3 in /usr/local/lib/python3.11/dist-packages (from Flask<3.1,>=1.0.4->dash>=2.9.0->plotly-resampler>=0.8.3.1->pycaret) (8.1.8)\n",
            "Requirement already satisfied: blinker>=1.6.2 in /usr/local/lib/python3.11/dist-packages (from Flask<3.1,>=1.0.4->dash>=2.9.0->plotly-resampler>=0.8.3.1->pycaret) (1.9.0)\n",
            "Requirement already satisfied: argon2-cffi in /usr/local/lib/python3.11/dist-packages (from notebook>=4.4.1->widgetsnbextension~=3.6.0->ipywidgets>=7.6.5->pycaret) (23.1.0)\n",
            "Requirement already satisfied: nbconvert>=5 in /usr/local/lib/python3.11/dist-packages (from notebook>=4.4.1->widgetsnbextension~=3.6.0->ipywidgets>=7.6.5->pycaret) (7.16.6)\n",
            "Requirement already satisfied: Send2Trash>=1.8.0 in /usr/local/lib/python3.11/dist-packages (from notebook>=4.4.1->widgetsnbextension~=3.6.0->ipywidgets>=7.6.5->pycaret) (1.8.3)\n",
            "Requirement already satisfied: terminado>=0.8.3 in /usr/local/lib/python3.11/dist-packages (from notebook>=4.4.1->widgetsnbextension~=3.6.0->ipywidgets>=7.6.5->pycaret) (0.18.1)\n",
            "Requirement already satisfied: prometheus-client in /usr/local/lib/python3.11/dist-packages (from notebook>=4.4.1->widgetsnbextension~=3.6.0->ipywidgets>=7.6.5->pycaret) (0.21.1)\n",
            "Requirement already satisfied: nbclassic>=0.4.7 in /usr/local/lib/python3.11/dist-packages (from notebook>=4.4.1->widgetsnbextension~=3.6.0->ipywidgets>=7.6.5->pycaret) (1.2.0)\n",
            "Requirement already satisfied: notebook-shim>=0.2.3 in /usr/local/lib/python3.11/dist-packages (from nbclassic>=0.4.7->notebook>=4.4.1->widgetsnbextension~=3.6.0->ipywidgets>=7.6.5->pycaret) (0.2.4)\n",
            "Requirement already satisfied: beautifulsoup4 in /usr/local/lib/python3.11/dist-packages (from nbconvert>=5->notebook>=4.4.1->widgetsnbextension~=3.6.0->ipywidgets>=7.6.5->pycaret) (4.13.4)\n",
            "Requirement already satisfied: bleach!=5.0.0 in /usr/local/lib/python3.11/dist-packages (from bleach[css]!=5.0.0->nbconvert>=5->notebook>=4.4.1->widgetsnbextension~=3.6.0->ipywidgets>=7.6.5->pycaret) (6.2.0)\n",
            "Requirement already satisfied: defusedxml in /usr/local/lib/python3.11/dist-packages (from nbconvert>=5->notebook>=4.4.1->widgetsnbextension~=3.6.0->ipywidgets>=7.6.5->pycaret) (0.7.1)\n",
            "Requirement already satisfied: jupyterlab-pygments in /usr/local/lib/python3.11/dist-packages (from nbconvert>=5->notebook>=4.4.1->widgetsnbextension~=3.6.0->ipywidgets>=7.6.5->pycaret) (0.3.0)\n",
            "Requirement already satisfied: mistune<4,>=2.0.3 in /usr/local/lib/python3.11/dist-packages (from nbconvert>=5->notebook>=4.4.1->widgetsnbextension~=3.6.0->ipywidgets>=7.6.5->pycaret) (3.1.3)\n",
            "Requirement already satisfied: nbclient>=0.5.0 in /usr/local/lib/python3.11/dist-packages (from nbconvert>=5->notebook>=4.4.1->widgetsnbextension~=3.6.0->ipywidgets>=7.6.5->pycaret) (0.10.2)\n",
            "Requirement already satisfied: pandocfilters>=1.4.1 in /usr/local/lib/python3.11/dist-packages (from nbconvert>=5->notebook>=4.4.1->widgetsnbextension~=3.6.0->ipywidgets>=7.6.5->pycaret) (1.5.1)\n",
            "Requirement already satisfied: argon2-cffi-bindings in /usr/local/lib/python3.11/dist-packages (from argon2-cffi->notebook>=4.4.1->widgetsnbextension~=3.6.0->ipywidgets>=7.6.5->pycaret) (21.2.0)\n",
            "Requirement already satisfied: webencodings in /usr/local/lib/python3.11/dist-packages (from bleach!=5.0.0->bleach[css]!=5.0.0->nbconvert>=5->notebook>=4.4.1->widgetsnbextension~=3.6.0->ipywidgets>=7.6.5->pycaret) (0.5.1)\n",
            "Requirement already satisfied: tinycss2<1.5,>=1.1.0 in /usr/local/lib/python3.11/dist-packages (from bleach[css]!=5.0.0->nbconvert>=5->notebook>=4.4.1->widgetsnbextension~=3.6.0->ipywidgets>=7.6.5->pycaret) (1.4.0)\n",
            "Requirement already satisfied: jupyter-server<3,>=1.8 in /usr/local/lib/python3.11/dist-packages (from notebook-shim>=0.2.3->nbclassic>=0.4.7->notebook>=4.4.1->widgetsnbextension~=3.6.0->ipywidgets>=7.6.5->pycaret) (1.16.0)\n",
            "Requirement already satisfied: cffi>=1.0.1 in /usr/local/lib/python3.11/dist-packages (from argon2-cffi-bindings->argon2-cffi->notebook>=4.4.1->widgetsnbextension~=3.6.0->ipywidgets>=7.6.5->pycaret) (1.17.1)\n",
            "Requirement already satisfied: soupsieve>1.2 in /usr/local/lib/python3.11/dist-packages (from beautifulsoup4->nbconvert>=5->notebook>=4.4.1->widgetsnbextension~=3.6.0->ipywidgets>=7.6.5->pycaret) (2.6)\n",
            "Requirement already satisfied: pycparser in /usr/local/lib/python3.11/dist-packages (from cffi>=1.0.1->argon2-cffi-bindings->argon2-cffi->notebook>=4.4.1->widgetsnbextension~=3.6.0->ipywidgets>=7.6.5->pycaret) (2.22)\n",
            "Requirement already satisfied: anyio>=3.1.0 in /usr/local/lib/python3.11/dist-packages (from jupyter-server<3,>=1.8->notebook-shim>=0.2.3->nbclassic>=0.4.7->notebook>=4.4.1->widgetsnbextension~=3.6.0->ipywidgets>=7.6.5->pycaret) (4.9.0)\n",
            "Requirement already satisfied: websocket-client in /usr/local/lib/python3.11/dist-packages (from jupyter-server<3,>=1.8->notebook-shim>=0.2.3->nbclassic>=0.4.7->notebook>=4.4.1->widgetsnbextension~=3.6.0->ipywidgets>=7.6.5->pycaret) (1.8.0)\n",
            "Requirement already satisfied: sniffio>=1.1 in /usr/local/lib/python3.11/dist-packages (from anyio>=3.1.0->jupyter-server<3,>=1.8->notebook-shim>=0.2.3->nbclassic>=0.4.7->notebook>=4.4.1->widgetsnbextension~=3.6.0->ipywidgets>=7.6.5->pycaret) (1.3.1)\n",
            "Downloading pycaret-3.3.2-py3-none-any.whl (486 kB)\n",
            "\u001b[2K   \u001b[90m━━━━━━━━━━━━━━━━━━━━━━━━━━━━━━━━━━━━━━━━\u001b[0m \u001b[32m486.1/486.1 kB\u001b[0m \u001b[31m20.0 MB/s\u001b[0m eta \u001b[36m0:00:00\u001b[0m\n",
            "\u001b[?25hDownloading schemdraw-0.15-py3-none-any.whl (106 kB)\n",
            "\u001b[2K   \u001b[90m━━━━━━━━━━━━━━━━━━━━━━━━━━━━━━━━━━━━━━━━\u001b[0m \u001b[32m106.8/106.8 kB\u001b[0m \u001b[31m8.9 MB/s\u001b[0m eta \u001b[36m0:00:00\u001b[0m\n",
            "\u001b[?25hDownloading sktime-0.26.0-py3-none-any.whl (21.8 MB)\n",
            "\u001b[2K   \u001b[90m━━━━━━━━━━━━━━━━━━━━━━━━━━━━━━━━━━━━━━━━\u001b[0m \u001b[32m21.8/21.8 MB\u001b[0m \u001b[31m90.1 MB/s\u001b[0m eta \u001b[36m0:00:00\u001b[0m\n",
            "\u001b[?25hDownloading category_encoders-2.7.0-py3-none-any.whl (85 kB)\n",
            "\u001b[2K   \u001b[90m━━━━━━━━━━━━━━━━━━━━━━━━━━━━━━━━━━━━━━━━\u001b[0m \u001b[32m85.4/85.4 kB\u001b[0m \u001b[31m6.9 MB/s\u001b[0m eta \u001b[36m0:00:00\u001b[0m\n",
            "\u001b[?25hDownloading deprecation-2.1.0-py2.py3-none-any.whl (11 kB)\n",
            "Downloading joblib-1.3.2-py3-none-any.whl (302 kB)\n",
            "\u001b[2K   \u001b[90m━━━━━━━━━━━━━━━━━━━━━━━━━━━━━━━━━━━━━━━━\u001b[0m \u001b[32m302.2/302.2 kB\u001b[0m \u001b[31m24.4 MB/s\u001b[0m eta \u001b[36m0:00:00\u001b[0m\n",
            "\u001b[?25hDownloading kaleido-0.2.1-py2.py3-none-manylinux1_x86_64.whl (79.9 MB)\n",
            "\u001b[2K   \u001b[90m━━━━━━━━━━━━━━━━━━━━━━━━━━━━━━━━━━━━━━━━\u001b[0m \u001b[32m79.9/79.9 MB\u001b[0m \u001b[31m11.4 MB/s\u001b[0m eta \u001b[36m0:00:00\u001b[0m\n",
            "\u001b[?25hDownloading matplotlib-3.7.5-cp311-cp311-manylinux_2_17_x86_64.manylinux2014_x86_64.whl (11.6 MB)\n",
            "\u001b[2K   \u001b[90m━━━━━━━━━━━━━━━━━━━━━━━━━━━━━━━━━━━━━━━━\u001b[0m \u001b[32m11.6/11.6 MB\u001b[0m \u001b[31m108.0 MB/s\u001b[0m eta \u001b[36m0:00:00\u001b[0m\n",
            "\u001b[?25hDownloading numpy-1.26.4-cp311-cp311-manylinux_2_17_x86_64.manylinux2014_x86_64.whl (18.3 MB)\n",
            "\u001b[2K   \u001b[90m━━━━━━━━━━━━━━━━━━━━━━━━━━━━━━━━━━━━━━━━\u001b[0m \u001b[32m18.3/18.3 MB\u001b[0m \u001b[31m90.3 MB/s\u001b[0m eta \u001b[36m0:00:00\u001b[0m\n",
            "\u001b[?25hDownloading pandas-2.1.4-cp311-cp311-manylinux_2_17_x86_64.manylinux2014_x86_64.whl (12.2 MB)\n",
            "\u001b[2K   \u001b[90m━━━━━━━━━━━━━━━━━━━━━━━━━━━━━━━━━━━━━━━━\u001b[0m \u001b[32m12.2/12.2 MB\u001b[0m \u001b[31m101.1 MB/s\u001b[0m eta \u001b[36m0:00:00\u001b[0m\n",
            "\u001b[?25hDownloading plotly_resampler-0.10.0-py3-none-any.whl (80 kB)\n",
            "\u001b[2K   \u001b[90m━━━━━━━━━━━━━━━━━━━━━━━━━━━━━━━━━━━━━━━━\u001b[0m \u001b[32m80.7/80.7 kB\u001b[0m \u001b[31m5.8 MB/s\u001b[0m eta \u001b[36m0:00:00\u001b[0m\n",
            "\u001b[?25hDownloading pmdarima-2.0.4-cp311-cp311-manylinux_2_17_x86_64.manylinux2014_x86_64.manylinux_2_28_x86_64.whl (2.2 MB)\n",
            "\u001b[2K   \u001b[90m━━━━━━━━━━━━━━━━━━━━━━━━━━━━━━━━━━━━━━━━\u001b[0m \u001b[32m2.2/2.2 MB\u001b[0m \u001b[31m76.3 MB/s\u001b[0m eta \u001b[36m0:00:00\u001b[0m\n",
            "\u001b[?25hDownloading scikit_learn-1.4.2-cp311-cp311-manylinux_2_17_x86_64.manylinux2014_x86_64.whl (12.1 MB)\n",
            "\u001b[2K   \u001b[90m━━━━━━━━━━━━━━━━━━━━━━━━━━━━━━━━━━━━━━━━\u001b[0m \u001b[32m12.1/12.1 MB\u001b[0m \u001b[31m103.0 MB/s\u001b[0m eta \u001b[36m0:00:00\u001b[0m\n",
            "\u001b[?25hDownloading scikit_plot-0.3.7-py3-none-any.whl (33 kB)\n",
            "Downloading scipy-1.11.4-cp311-cp311-manylinux_2_17_x86_64.manylinux2014_x86_64.whl (36.4 MB)\n",
            "\u001b[2K   \u001b[90m━━━━━━━━━━━━━━━━━━━━━━━━━━━━━━━━━━━━━━━━\u001b[0m \u001b[32m36.4/36.4 MB\u001b[0m \u001b[31m16.0 MB/s\u001b[0m eta \u001b[36m0:00:00\u001b[0m\n",
            "\u001b[?25hDownloading tbats-1.1.3-py3-none-any.whl (44 kB)\n",
            "\u001b[2K   \u001b[90m━━━━━━━━━━━━━━━━━━━━━━━━━━━━━━━━━━━━━━━━\u001b[0m \u001b[32m44.0/44.0 kB\u001b[0m \u001b[31m3.5 MB/s\u001b[0m eta \u001b[36m0:00:00\u001b[0m\n",
            "\u001b[?25hDownloading xxhash-3.5.0-cp311-cp311-manylinux_2_17_x86_64.manylinux2014_x86_64.whl (194 kB)\n",
            "\u001b[2K   \u001b[90m━━━━━━━━━━━━━━━━━━━━━━━━━━━━━━━━━━━━━━━━\u001b[0m \u001b[32m194.8/194.8 kB\u001b[0m \u001b[31m17.5 MB/s\u001b[0m eta \u001b[36m0:00:00\u001b[0m\n",
            "\u001b[?25hDownloading dash-3.0.3-py3-none-any.whl (8.0 MB)\n",
            "\u001b[2K   \u001b[90m━━━━━━━━━━━━━━━━━━━━━━━━━━━━━━━━━━━━━━━━\u001b[0m \u001b[32m8.0/8.0 MB\u001b[0m \u001b[31m118.6 MB/s\u001b[0m eta \u001b[36m0:00:00\u001b[0m\n",
            "\u001b[?25hDownloading jedi-0.19.2-py2.py3-none-any.whl (1.6 MB)\n",
            "\u001b[2K   \u001b[90m━━━━━━━━━━━━━━━━━━━━━━━━━━━━━━━━━━━━━━━━\u001b[0m \u001b[32m1.6/1.6 MB\u001b[0m \u001b[31m61.2 MB/s\u001b[0m eta \u001b[36m0:00:00\u001b[0m\n",
            "\u001b[?25hDownloading scikit_base-0.7.8-py3-none-any.whl (130 kB)\n",
            "\u001b[2K   \u001b[90m━━━━━━━━━━━━━━━━━━━━━━━━━━━━━━━━━━━━━━━━\u001b[0m \u001b[32m130.1/130.1 kB\u001b[0m \u001b[31m11.2 MB/s\u001b[0m eta \u001b[36m0:00:00\u001b[0m\n",
            "\u001b[?25hDownloading tsdownsample-0.1.4.1-cp311-cp311-manylinux_2_17_x86_64.manylinux2014_x86_64.whl (1.3 MB)\n",
            "\u001b[2K   \u001b[90m━━━━━━━━━━━━━━━━━━━━━━━━━━━━━━━━━━━━━━━━\u001b[0m \u001b[32m1.3/1.3 MB\u001b[0m \u001b[31m65.2 MB/s\u001b[0m eta \u001b[36m0:00:00\u001b[0m\n",
            "\u001b[?25hDownloading flask-3.0.3-py3-none-any.whl (101 kB)\n",
            "\u001b[2K   \u001b[90m━━━━━━━━━━━━━━━━━━━━━━━━━━━━━━━━━━━━━━━━\u001b[0m \u001b[32m101.7/101.7 kB\u001b[0m \u001b[31m9.3 MB/s\u001b[0m eta \u001b[36m0:00:00\u001b[0m\n",
            "\u001b[?25hDownloading werkzeug-3.0.6-py3-none-any.whl (227 kB)\n",
            "\u001b[2K   \u001b[90m━━━━━━━━━━━━━━━━━━━━━━━━━━━━━━━━━━━━━━━━\u001b[0m \u001b[32m228.0/228.0 kB\u001b[0m \u001b[31m17.4 MB/s\u001b[0m eta \u001b[36m0:00:00\u001b[0m\n",
            "\u001b[?25hDownloading retrying-1.3.4-py3-none-any.whl (11 kB)\n",
            "Building wheels for collected packages: pyod\n",
            "  Building wheel for pyod (setup.py) ... \u001b[?25l\u001b[?25hdone\n",
            "  Created wheel for pyod: filename=pyod-2.0.4-py3-none-any.whl size=200479 sha256=d5769d0fd3a526f6819f25f9f51098c1f0dfb80b27c9a1f12f5555163a911bad\n",
            "  Stored in directory: /root/.cache/pip/wheels/cb/54/28/d02f62720600bc815c41219efedd0cb86889737fb5ea3c8f9a\n",
            "Successfully built pyod\n",
            "Installing collected packages: kaleido, xxhash, Werkzeug, scikit-base, schemdraw, retrying, numpy, joblib, jedi, deprecation, tsdownsample, scipy, pandas, Flask, scikit-learn, matplotlib, dash, sktime, scikit-plot, pyod, pmdarima, plotly-resampler, category-encoders, tbats, pycaret\n",
            "  Attempting uninstall: Werkzeug\n",
            "    Found existing installation: Werkzeug 3.1.3\n",
            "    Uninstalling Werkzeug-3.1.3:\n",
            "      Successfully uninstalled Werkzeug-3.1.3\n",
            "  Attempting uninstall: numpy\n",
            "    Found existing installation: numpy 2.0.2\n",
            "    Uninstalling numpy-2.0.2:\n",
            "      Successfully uninstalled numpy-2.0.2\n",
            "  Attempting uninstall: joblib\n",
            "    Found existing installation: joblib 1.4.2\n",
            "    Uninstalling joblib-1.4.2:\n",
            "      Successfully uninstalled joblib-1.4.2\n",
            "  Attempting uninstall: scipy\n",
            "    Found existing installation: scipy 1.14.1\n",
            "    Uninstalling scipy-1.14.1:\n",
            "      Successfully uninstalled scipy-1.14.1\n",
            "  Attempting uninstall: pandas\n",
            "    Found existing installation: pandas 2.2.2\n",
            "    Uninstalling pandas-2.2.2:\n",
            "      Successfully uninstalled pandas-2.2.2\n",
            "  Attempting uninstall: Flask\n",
            "    Found existing installation: Flask 3.1.0\n",
            "    Uninstalling Flask-3.1.0:\n",
            "      Successfully uninstalled Flask-3.1.0\n",
            "  Attempting uninstall: scikit-learn\n",
            "    Found existing installation: scikit-learn 1.6.1\n",
            "    Uninstalling scikit-learn-1.6.1:\n",
            "      Successfully uninstalled scikit-learn-1.6.1\n",
            "  Attempting uninstall: matplotlib\n",
            "    Found existing installation: matplotlib 3.10.0\n",
            "    Uninstalling matplotlib-3.10.0:\n",
            "      Successfully uninstalled matplotlib-3.10.0\n",
            "\u001b[31mERROR: pip's dependency resolver does not currently take into account all the packages that are installed. This behaviour is the source of the following dependency conflicts.\n",
            "google-colab 1.0.0 requires pandas==2.2.2, but you have pandas 2.1.4 which is incompatible.\n",
            "thinc 8.3.6 requires numpy<3.0.0,>=2.0.0, but you have numpy 1.26.4 which is incompatible.\n",
            "mizani 0.13.3 requires pandas>=2.2.0, but you have pandas 2.1.4 which is incompatible.\n",
            "plotnine 0.14.5 requires matplotlib>=3.8.0, but you have matplotlib 3.7.5 which is incompatible.\n",
            "plotnine 0.14.5 requires pandas>=2.2.0, but you have pandas 2.1.4 which is incompatible.\u001b[0m\u001b[31m\n",
            "\u001b[0mSuccessfully installed Flask-3.0.3 Werkzeug-3.0.6 category-encoders-2.7.0 dash-3.0.3 deprecation-2.1.0 jedi-0.19.2 joblib-1.3.2 kaleido-0.2.1 matplotlib-3.7.5 numpy-1.26.4 pandas-2.1.4 plotly-resampler-0.10.0 pmdarima-2.0.4 pycaret-3.3.2 pyod-2.0.4 retrying-1.3.4 schemdraw-0.15 scikit-base-0.7.8 scikit-learn-1.4.2 scikit-plot-0.3.7 scipy-1.11.4 sktime-0.26.0 tbats-1.1.3 tsdownsample-0.1.4.1 xxhash-3.5.0\n"
          ]
        },
        {
          "output_type": "display_data",
          "data": {
            "application/vnd.colab-display-data+json": {
              "pip_warning": {
                "packages": [
                  "matplotlib",
                  "mpl_toolkits"
                ]
              },
              "id": "45a35962b671433da66cd45a98cdd6b8"
            }
          },
          "metadata": {}
        }
      ]
    },
    {
      "cell_type": "code",
      "execution_count": null,
      "id": "c7f7d2fd",
      "metadata": {
        "colab": {
          "base_uri": "https://localhost:8080/",
          "height": 160
        },
        "id": "c7f7d2fd",
        "outputId": "e538920d-d14e-4e63-b249-3e16e9a8b5d5"
      },
      "outputs": [
        {
          "output_type": "error",
          "ename": "NameError",
          "evalue": "name 'iris' is not defined",
          "traceback": [
            "\u001b[0;31m---------------------------------------------------------------------------\u001b[0m",
            "\u001b[0;31mNameError\u001b[0m                                 Traceback (most recent call last)",
            "\u001b[0;32m<ipython-input-1-b1e372abab1c>\u001b[0m in \u001b[0;36m<cell line: 0>\u001b[0;34m()\u001b[0m\n\u001b[1;32m      1\u001b[0m \u001b[0;32mfrom\u001b[0m \u001b[0mpycaret\u001b[0m\u001b[0;34m.\u001b[0m\u001b[0mclustering\u001b[0m \u001b[0;32mimport\u001b[0m \u001b[0;34m*\u001b[0m\u001b[0;34m\u001b[0m\u001b[0;34m\u001b[0m\u001b[0m\n\u001b[0;32m----> 2\u001b[0;31m \u001b[0mkMeanClusteringParameters\u001b[0m \u001b[0;34m=\u001b[0m \u001b[0msetup\u001b[0m\u001b[0;34m(\u001b[0m\u001b[0miris\u001b[0m\u001b[0;34m)\u001b[0m\u001b[0;34m\u001b[0m\u001b[0;34m\u001b[0m\u001b[0m\n\u001b[0m",
            "\u001b[0;31mNameError\u001b[0m: name 'iris' is not defined"
          ]
        }
      ],
      "source": [
        "from pycaret.clustering import *\n",
        "kMeanClusteringParameters = setup(iris)"
      ]
    },
    {
      "cell_type": "code",
      "execution_count": null,
      "id": "872251c3",
      "metadata": {
        "id": "872251c3"
      },
      "outputs": [],
      "source": [
        "from pycaret.clustering import *\n",
        "\n",
        "kMeanClusteringParameters = setup(iris, verbose=False)\n",
        "KMeanClusteringModel = create_model('kmeans', num_clusters=4)\n",
        "kMeanPrediction = assign_model(KMeanClusteringModel)\n",
        "kMeanPrediction"
      ]
    },
    {
      "cell_type": "code",
      "execution_count": null,
      "id": "73922986",
      "metadata": {
        "id": "73922986"
      },
      "outputs": [],
      "source": [
        "kMeanPrediction.to_csv(\"KMeanResult.csv\")\n",
        "print(\"Result file save sucessfully!!\")"
      ]
    },
    {
      "cell_type": "code",
      "execution_count": null,
      "id": "e649cc10",
      "metadata": {
        "id": "e649cc10"
      },
      "outputs": [],
      "source": [
        "from pycaret.clustering import *\n",
        "\n",
        "kMeanClusteringParameters = setup(iris, verbose=False)\n",
        "KMeanClusteringModel = create_model('kmeans', num_clusters=3)\n",
        "kMeanPrediction = assign_model(KMeanClusteringModel)\n",
        "kMeanPrediction"
      ]
    },
    {
      "cell_type": "code",
      "execution_count": null,
      "id": "f31a4a89",
      "metadata": {
        "id": "f31a4a89"
      },
      "outputs": [],
      "source": [
        "from pycaret.clustering import *\n",
        "\n",
        "kMeanClusteringParameters = setup(iris, verbose=False)\n",
        "KMeanClusteringModel = create_model('kmeans', num_clusters=5)\n",
        "kMeanPrediction = assign_model(KMeanClusteringModel)\n",
        "kMeanPrediction"
      ]
    },
    {
      "cell_type": "code",
      "execution_count": null,
      "id": "f800cb4f",
      "metadata": {
        "id": "f800cb4f"
      },
      "outputs": [],
      "source": [
        "setup(data = iris,  verbose=False)\n",
        "\n",
        "print(\"For Cluster = 3\")\n",
        "x1 = create_model('kmeans', num_clusters = 3)\n",
        "\n",
        "print(\"For Cluster = 4\")\n",
        "x2 = create_model('kmeans', num_clusters = 4)\n",
        "\n",
        "print(\"For Cluster = 5\")\n",
        "x3 = create_model('kmeans', num_clusters = 5)\n"
      ]
    },
    {
      "cell_type": "code",
      "execution_count": null,
      "id": "89e8dd48",
      "metadata": {
        "id": "89e8dd48"
      },
      "outputs": [],
      "source": [
        "plot_model(x1, plot = 'tsne')"
      ]
    },
    {
      "cell_type": "code",
      "execution_count": null,
      "id": "9fd93208",
      "metadata": {
        "id": "9fd93208"
      },
      "outputs": [],
      "source": [
        "setup(data = iris, normalize = True, normalize_method = 'zscore', verbose=False)\n",
        "\n",
        "print(\"For Cluster = 3\")\n",
        "x1 = create_model('kmeans', num_clusters = 3)\n",
        "\n",
        "print(\"For Cluster = 4\")\n",
        "x2 = create_model('kmeans', num_clusters = 4)\n",
        "\n",
        "print(\"For Cluster = 5\")\n",
        "x3 = create_model('kmeans', num_clusters = 5)\n",
        "\n"
      ]
    },
    {
      "cell_type": "code",
      "execution_count": null,
      "id": "d78f46e5",
      "metadata": {
        "id": "d78f46e5"
      },
      "outputs": [],
      "source": [
        "plot_model(x1, plot = 'elbow')"
      ]
    },
    {
      "cell_type": "code",
      "execution_count": null,
      "id": "c336b1be",
      "metadata": {
        "id": "c336b1be"
      },
      "outputs": [],
      "source": [
        "kMeanPrediction = assign_model(x1)\n",
        "kMeanPrediction"
      ]
    },
    {
      "cell_type": "code",
      "execution_count": null,
      "id": "95ace377",
      "metadata": {
        "id": "95ace377"
      },
      "outputs": [],
      "source": [
        "kMeanPrediction2 = assign_model(x2)\n",
        "kMeanPrediction2\n"
      ]
    },
    {
      "cell_type": "code",
      "execution_count": null,
      "id": "9d550777",
      "metadata": {
        "id": "9d550777"
      },
      "outputs": [],
      "source": [
        "kMeanPrediction3 = assign_model(x3)\n",
        "kMeanPrediction3"
      ]
    },
    {
      "cell_type": "code",
      "execution_count": null,
      "id": "99436ac6",
      "metadata": {
        "id": "99436ac6"
      },
      "outputs": [],
      "source": [
        "setup(data = iris,pca = True, pca_method = 'linear', verbose=False)\n",
        "\n",
        "print(\"For Cluster = 3\")\n",
        "x1 = create_model('kmeans', num_clusters = 3)\n",
        "\n",
        "print(\"For Cluster = 4\")\n",
        "x2 = create_model('kmeans', num_clusters = 4)\n",
        "\n",
        "print(\"For Cluster = 5\")\n",
        "x3 = create_model('kmeans', num_clusters = 5)"
      ]
    },
    {
      "cell_type": "code",
      "execution_count": null,
      "id": "mpcY5I4KZZLO",
      "metadata": {
        "id": "mpcY5I4KZZLO"
      },
      "outputs": [],
      "source": [
        "plot_model(x1, plot = 'elbow')"
      ]
    },
    {
      "cell_type": "code",
      "execution_count": null,
      "id": "21b62f87",
      "metadata": {
        "id": "21b62f87"
      },
      "outputs": [],
      "source": [
        "setup(data = iris,transformation = True, transformation_method = 'yeo-johnson', verbose=False)\n",
        "\n",
        "print(\"For Cluster = 3\")\n",
        "x1 = create_model('kmeans', num_clusters = 3)\n",
        "\n",
        "print(\"For Cluster = 4\")\n",
        "x2 = create_model('kmeans', num_clusters = 4)\n",
        "\n",
        "print(\"For Cluster = 5\")\n",
        "x3 = create_model('kmeans', num_clusters = 5)"
      ]
    },
    {
      "cell_type": "code",
      "execution_count": null,
      "id": "FyZCG6qRZm0b",
      "metadata": {
        "id": "FyZCG6qRZm0b"
      },
      "outputs": [],
      "source": [
        "plot_model(x1, plot = 'elbow')"
      ]
    },
    {
      "cell_type": "code",
      "execution_count": null,
      "id": "1cd79411",
      "metadata": {
        "id": "1cd79411"
      },
      "outputs": [],
      "source": [
        "setup(data = iris,transformation = True, transformation_method = 'yeo-johnson', verbose=False)\n",
        "\n",
        "\n",
        "x = create_model('kmeans')"
      ]
    },
    {
      "cell_type": "code",
      "execution_count": null,
      "id": "e227ad04",
      "metadata": {
        "id": "e227ad04"
      },
      "outputs": [],
      "source": [
        "plot_model(x, plot = 'elbow')"
      ]
    },
    {
      "cell_type": "code",
      "execution_count": null,
      "id": "5d490e7e",
      "metadata": {
        "id": "5d490e7e"
      },
      "outputs": [],
      "source": [
        "setup(data = iris, normalize = True,\n",
        "      normalize_method = 'zscore',transformation = True, transformation_method = 'yeo-johnson', verbose=False)\n",
        "\n",
        "print(\"For Cluster = 3\")\n",
        "x1 = create_model('kmeans', num_clusters = 3)\n",
        "\n",
        "print(\"For Cluster = 4\")\n",
        "x2 = create_model('kmeans', num_clusters = 4)\n",
        "\n",
        "print(\"For Cluster = 5\")\n",
        "x3 = create_model('kmeans', num_clusters = 5)"
      ]
    },
    {
      "cell_type": "code",
      "execution_count": null,
      "id": "KmCbgQKgZrn-",
      "metadata": {
        "id": "KmCbgQKgZrn-"
      },
      "outputs": [],
      "source": [
        "plot_model(x2, plot = 'elbow')"
      ]
    },
    {
      "cell_type": "code",
      "execution_count": null,
      "id": "ca86c95f",
      "metadata": {
        "id": "ca86c95f"
      },
      "outputs": [],
      "source": [
        "setup(data = iris, normalize = True,\n",
        "      normalize_method = 'zscore',transformation = True, transformation_method = 'yeo-johnson', verbose=False)\n",
        "\n",
        "print(\"For Cluster = 3\")\n",
        "x1 = create_model('kmeans', num_clusters = 3)"
      ]
    },
    {
      "cell_type": "code",
      "execution_count": null,
      "id": "84d7dcce",
      "metadata": {
        "id": "84d7dcce"
      },
      "outputs": [],
      "source": [
        "setup(data = iris, normalize = True,\n",
        "      normalize_method = 'zscore',transformation = True, transformation_method = 'yeo-johnson', verbose=False)\n",
        "\n",
        "\n",
        "x1 = create_model('kmeans')"
      ]
    },
    {
      "cell_type": "code",
      "execution_count": null,
      "id": "d31364c1",
      "metadata": {
        "id": "d31364c1"
      },
      "outputs": [],
      "source": [
        "plot_model(x, plot = 'elbow')"
      ]
    },
    {
      "cell_type": "code",
      "execution_count": null,
      "id": "dd552898",
      "metadata": {
        "id": "dd552898"
      },
      "outputs": [],
      "source": [
        "setup(data = iris, normalize = True,\n",
        "      normalize_method = 'zscore',transformation = True, transformation_method = 'yeo-johnson',pca = True, pca_method = 'linear', verbose=False)\n",
        "\n",
        "print(\"For Cluster = 3\")\n",
        "x1 = create_model('kmeans', num_clusters = 3)\n",
        "\n",
        "print(\"For Cluster = 4\")\n",
        "x2 = create_model('kmeans', num_clusters = 4)\n",
        "\n",
        "print(\"For Cluster = 5\")\n",
        "x3 = create_model('kmeans', num_clusters = 5)"
      ]
    },
    {
      "cell_type": "code",
      "execution_count": null,
      "id": "c42dcbb7",
      "metadata": {
        "id": "c42dcbb7"
      },
      "outputs": [],
      "source": [
        "setup(data = iris, normalize = True,\n",
        "      normalize_method = 'zscore',transformation = True, transformation_method = 'yeo-johnson',pca = True, pca_method = 'linear', verbose=False)\n",
        "\n",
        "x = create_model('kmeans', num_clusters = 3)"
      ]
    },
    {
      "cell_type": "code",
      "execution_count": null,
      "id": "0aacad12",
      "metadata": {
        "id": "0aacad12"
      },
      "outputs": [],
      "source": [
        "plot_model(x, plot = 'elbow')"
      ]
    },
    {
      "cell_type": "code",
      "execution_count": null,
      "id": "f3dfd71d",
      "metadata": {
        "id": "f3dfd71d"
      },
      "outputs": [],
      "source": [
        "setup(data = iris,  verbose=False)\n",
        "\n",
        "print(\"For Cluster = 3\")\n",
        "x1 = create_model('hclust', num_clusters = 3)\n",
        "\n",
        "print(\"For Cluster = 4\")\n",
        "x2 = create_model('hclust', num_clusters = 4)\n",
        "\n",
        "print(\"For Cluster = 5\")\n",
        "x3 = create_model('hclust', num_clusters = 5)"
      ]
    },
    {
      "cell_type": "code",
      "execution_count": null,
      "id": "d7d10d51",
      "metadata": {
        "id": "d7d10d51"
      },
      "outputs": [],
      "source": [
        "setup(data = iris, normalize = True, normalize_method = 'zscore', verbose=False)\n",
        "\n",
        "print(\"For Cluster = 3\")\n",
        "x1 = create_model('hclust', num_clusters = 3)\n",
        "\n",
        "print(\"For Cluster = 4\")\n",
        "x2 = create_model('hclust', num_clusters = 4)\n",
        "\n",
        "print(\"For Cluster = 5\")\n",
        "x3 = create_model('hclust', num_clusters = 5)\n"
      ]
    },
    {
      "cell_type": "code",
      "execution_count": null,
      "id": "cd0ZwMGlZyI6",
      "metadata": {
        "id": "cd0ZwMGlZyI6"
      },
      "outputs": [],
      "source": [
        "plot_model(x2, plot = 'elbow')"
      ]
    },
    {
      "cell_type": "code",
      "execution_count": null,
      "id": "a8108a36",
      "metadata": {
        "id": "a8108a36"
      },
      "outputs": [],
      "source": [
        "setup(data = iris,pca = True, pca_method = 'linear', verbose=False)\n",
        "\n",
        "print(\"For Cluster = 3\")\n",
        "x1 = create_model('hclust', num_clusters = 3)\n",
        "\n",
        "print(\"For Cluster = 4\")\n",
        "x2 = create_model('hclust', num_clusters = 4)\n",
        "\n",
        "print(\"For Cluster = 5\")\n",
        "x3 = create_model('hclust', num_clusters = 5)"
      ]
    },
    {
      "cell_type": "code",
      "execution_count": null,
      "id": "ySOE2nMQZ3a3",
      "metadata": {
        "id": "ySOE2nMQZ3a3"
      },
      "outputs": [],
      "source": [
        "plot_model(x3, plot = 'elbow')"
      ]
    },
    {
      "cell_type": "code",
      "execution_count": null,
      "id": "fe5d6f20",
      "metadata": {
        "id": "fe5d6f20"
      },
      "outputs": [],
      "source": [
        "setup(data = iris,transformation = True, transformation_method = 'yeo-johnson', verbose=False)\n",
        "\n",
        "print(\"For Cluster = 3\")\n",
        "x1 = create_model('hclust', num_clusters = 3)\n",
        "\n",
        "print(\"For Cluster = 4\")\n",
        "x2 = create_model('hclust', num_clusters = 4)\n",
        "\n",
        "print(\"For Cluster = 5\")\n",
        "x3 = create_model('hclust', num_clusters = 5)"
      ]
    },
    {
      "cell_type": "code",
      "execution_count": null,
      "id": "52ff3c81",
      "metadata": {
        "id": "52ff3c81"
      },
      "outputs": [],
      "source": [
        "setup(data = iris, normalize = True,\n",
        "      normalize_method = 'zscore',transformation = True, transformation_method = 'yeo-johnson', verbose=False)\n",
        "\n",
        "print(\"For Cluster = 3\")\n",
        "x1 = create_model('hclust', num_clusters = 3)\n",
        "\n",
        "print(\"For Cluster = 4\")\n",
        "x2 = create_model('hclust', num_clusters = 4)\n",
        "\n",
        "print(\"For Cluster = 5\")\n",
        "x3 = create_model('hclust', num_clusters = 5)"
      ]
    },
    {
      "cell_type": "code",
      "execution_count": null,
      "id": "6ced5d38",
      "metadata": {
        "id": "6ced5d38"
      },
      "outputs": [],
      "source": [
        "setup(data = iris, normalize = True,\n",
        "      normalize_method = 'zscore',transformation = True, transformation_method = 'yeo-johnson', verbose=False)\n",
        "\n",
        "print(\"For Cluster = 3\")\n",
        "x = create_model('hclust', num_clusters = 3)\n",
        "plot_model(x, plot = 'elbow')"
      ]
    },
    {
      "cell_type": "code",
      "execution_count": null,
      "id": "edcb1ba1",
      "metadata": {
        "id": "edcb1ba1"
      },
      "outputs": [],
      "source": [
        "setup(data = iris, normalize = True,\n",
        "      normalize_method = 'zscore',transformation = True, transformation_method = 'yeo-johnson',pca = True, pca_method = 'linear', verbose=False)\n",
        "x = create_model('hclust')\n",
        "plot_model(x, plot = 'elbow')"
      ]
    },
    {
      "cell_type": "code",
      "execution_count": null,
      "id": "938f2bc7",
      "metadata": {
        "id": "938f2bc7"
      },
      "outputs": [],
      "source": [
        "setup(data = iris, normalize = True,\n",
        "      normalize_method = 'zscore',transformation = True, transformation_method = 'yeo-johnson',pca = True, pca_method = 'linear', verbose=False)\n",
        "\n",
        "print(\"For Cluster = 3\")\n",
        "x1 = create_model('hclust', num_clusters = 3)\n",
        "\n",
        "print(\"For Cluster = 4\")\n",
        "x2 = create_model('hclust', num_clusters = 4)\n",
        "\n",
        "print(\"For Cluster = 5\")\n",
        "x3 = create_model('hclust', num_clusters = 5)"
      ]
    },
    {
      "cell_type": "code",
      "execution_count": null,
      "id": "d087c4da",
      "metadata": {
        "id": "d087c4da"
      },
      "outputs": [],
      "source": [
        "setup(data = iris,  verbose=False)\n",
        "\n",
        "print(\"For Cluster = 3\")\n",
        "x1 = create_model('meanshift', num_clusters = 3)\n",
        "\n",
        "print(\"For Cluster = 4\")\n",
        "x2 = create_model('meanshift', num_clusters = 4)\n",
        "\n",
        "print(\"For Cluster = 5\")\n",
        "x3 = create_model('meanshift', num_clusters = 5)"
      ]
    },
    {
      "cell_type": "code",
      "execution_count": null,
      "id": "b7b0c423",
      "metadata": {
        "id": "b7b0c423"
      },
      "outputs": [],
      "source": [
        "setup(data = iris, normalize = True, normalize_method = 'zscore', verbose=False)\n",
        "\n",
        "print(\"For Cluster = 3\")\n",
        "x1 = create_model('meanshift', num_clusters = 3)\n",
        "\n",
        "print(\"For Cluster = 4\")\n",
        "x2 = create_model('meanshift', num_clusters = 4)\n",
        "\n",
        "print(\"For Cluster = 5\")\n",
        "x3 = create_model('meanshift', num_clusters = 5)"
      ]
    },
    {
      "cell_type": "code",
      "execution_count": null,
      "id": "73ba71f1",
      "metadata": {
        "id": "73ba71f1"
      },
      "outputs": [],
      "source": [
        "setup(data = iris,pca = True, pca_method = 'linear', verbose=False)\n",
        "\n",
        "print(\"For Cluster = 3\")\n",
        "x1 = create_model('meanshift', num_clusters = 3)\n",
        "\n",
        "print(\"For Cluster = 4\")\n",
        "x2 = create_model('meanshift', num_clusters = 4)\n",
        "\n",
        "print(\"For Cluster = 5\")\n",
        "x3 = create_model('meanshift', num_clusters = 5)"
      ]
    },
    {
      "cell_type": "code",
      "execution_count": null,
      "id": "01956bb0",
      "metadata": {
        "id": "01956bb0"
      },
      "outputs": [],
      "source": [
        "setup(data = iris,transformation = True, transformation_method = 'yeo-johnson', verbose=False)\n",
        "\n",
        "print(\"For Cluster = 3\")\n",
        "x1 = create_model('meanshift', num_clusters = 3)\n",
        "\n",
        "print(\"For Cluster = 4\")\n",
        "x2 = create_model('meanshift', num_clusters = 4)\n",
        "\n",
        "print(\"For Cluster = 5\")\n",
        "x3 = create_model('meanshift', num_clusters = 5)"
      ]
    },
    {
      "cell_type": "code",
      "execution_count": null,
      "id": "5d96f998",
      "metadata": {
        "id": "5d96f998"
      },
      "outputs": [],
      "source": [
        "setup(data = iris, normalize = True,\n",
        "      normalize_method = 'zscore',transformation = True, transformation_method = 'yeo-johnson', verbose=False)\n",
        "\n",
        "x = create_model('meanshift', num_clusters = 3)\n"
      ]
    },
    {
      "cell_type": "code",
      "execution_count": null,
      "id": "288ef87c",
      "metadata": {
        "id": "288ef87c"
      },
      "outputs": [],
      "source": [
        "\n",
        "plot_model(x, plot = 'tsne')"
      ]
    },
    {
      "cell_type": "code",
      "execution_count": null,
      "id": "1346bdf1",
      "metadata": {
        "id": "1346bdf1"
      },
      "outputs": [],
      "source": [
        "setup(data = iris, normalize = True,\n",
        "      normalize_method = 'zscore',transformation = True, transformation_method = 'yeo-johnson', verbose=False)\n",
        "\n",
        "print(\"For Cluster = 3\")\n",
        "x1 = create_model('meanshift', num_clusters = 3)\n",
        "\n",
        "print(\"For Cluster = 4\")\n",
        "x2 = create_model('meanshift', num_clusters = 4)\n",
        "\n",
        "print(\"For Cluster = 5\")\n",
        "x3 = create_model('meanshift', num_clusters = 5)"
      ]
    },
    {
      "cell_type": "code",
      "execution_count": null,
      "id": "c728bb18",
      "metadata": {
        "id": "c728bb18"
      },
      "outputs": [],
      "source": [
        "setup(data = iris, normalize = True,\n",
        "      normalize_method = 'zscore',transformation = True, transformation_method = 'yeo-johnson',pca = True, pca_method = 'linear', verbose=False)\n",
        "\n",
        "print(\"For Cluster = 3\")\n",
        "x1 = create_model('meanshift', num_clusters = 3)\n",
        "\n",
        "print(\"For Cluster = 4\")\n",
        "x2 = create_model('meanshift', num_clusters = 4)\n",
        "\n",
        "print(\"For Cluster = 5\")\n",
        "x3 = create_model('meanshift', num_clusters = 5)"
      ]
    }
  ],
  "metadata": {
    "colab": {
      "provenance": [],
      "include_colab_link": true
    },
    "kernelspec": {
      "display_name": "Python 3 (ipykernel)",
      "language": "python",
      "name": "python3"
    },
    "language_info": {
      "codemirror_mode": {
        "name": "ipython",
        "version": 3
      },
      "file_extension": ".py",
      "mimetype": "text/x-python",
      "name": "python",
      "nbconvert_exporter": "python",
      "pygments_lexer": "ipython3",
      "version": "3.8.15"
    }
  },
  "nbformat": 4,
  "nbformat_minor": 5
}